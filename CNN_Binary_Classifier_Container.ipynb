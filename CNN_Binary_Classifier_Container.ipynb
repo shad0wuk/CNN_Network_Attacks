{
  "cells": [
    {
      "cell_type": "markdown",
      "metadata": {
        "id": "view-in-github",
        "colab_type": "text"
      },
      "source": [
        "<a href=\"https://colab.research.google.com/github/shad0wuk/CNN_Network_Attacks/blob/main/CNN_Binary_Classifier_Container.ipynb\" target=\"_parent\"><img src=\"https://colab.research.google.com/assets/colab-badge.svg\" alt=\"Open In Colab\"/></a>"
      ]
    },
    {
      "cell_type": "markdown",
      "metadata": {
        "id": "BUOSRWgeExJV"
      },
      "source": [
        "# Import the required modules."
      ]
    },
    {
      "cell_type": "code",
      "execution_count": null,
      "metadata": {
        "id": "HpKmKzSs0cJ8"
      },
      "outputs": [],
      "source": [
        "from datetime import datetime as dt"
      ]
    },
    {
      "cell_type": "code",
      "execution_count": null,
      "metadata": {
        "id": "1fJk7zmMjcFm"
      },
      "outputs": [],
      "source": [
        "import numpy as np\n",
        "import pandas as pd\n",
        "import matplotlib.pyplot as plt\n",
        "import seaborn as sns; sns.set()\n",
        "import ipaddress\n",
        "import tensorflow as tf\n",
        "from sklearn.metrics import mean_squared_error\n",
        "from sklearn import metrics\n"
      ]
    },
    {
      "cell_type": "code",
      "execution_count": null,
      "metadata": {
        "id": "MOKVbdzBjlmP"
      },
      "outputs": [],
      "source": [
        "from keras.models import Sequential, load_model\n",
        "from keras.utils import to_categorical\n",
        "from sklearn.model_selection import train_test_split\n",
        "from sklearn.preprocessing import LabelEncoder, StandardScaler\n",
        "from sklearn.metrics import confusion_matrix"
      ]
    },
    {
      "cell_type": "code",
      "execution_count": null,
      "metadata": {
        "id": "u7H2jNs1csN2"
      },
      "outputs": [],
      "source": [
        "# # number of benign traffic row = 2*number_of_samples\n",
        "# number_of_samples = 100000\n",
        "# # number of attack traffic row = number_of_samples_attack\n",
        "# number_of_samples_attack =100000"
      ]
    },
    {
      "cell_type": "code",
      "execution_count": null,
      "metadata": {
        "colab": {
          "base_uri": "https://localhost:8080/"
        },
        "id": "02gLfrW8Za7i",
        "outputId": "1569ea09-4f60-4f74-d6a7-db7f2594b6cf"
      },
      "outputs": [
        {
          "output_type": "stream",
          "name": "stdout",
          "text": [
            "Mounted at /content/drive\n"
          ]
        }
      ],
      "source": [
        "# First, we get the data\n",
        "from google.colab import drive\n",
        "drive.mount('/content/drive')"
      ]
    },
    {
      "cell_type": "markdown",
      "metadata": {
        "id": "ySmk8hf-l9L6"
      },
      "source": [
        "# Number of features"
      ]
    },
    {
      "cell_type": "code",
      "execution_count": null,
      "metadata": {
        "id": "euyvcxJH1Xsh"
      },
      "outputs": [],
      "source": [
        "features = ['Flow Duration', 'Fwd Packet Length Std', 'ACK Flag Count', 'Protocol', 'Total Fwd Packet', 'Total Bwd packets',\n",
        "    'Total Length of Fwd Packet', 'Total Length of Bwd Packet','Label']\n",
        "featuresWithoutLabel = ['Flow Duration', 'Fwd Packet Length Std', 'ACK Flag Count', 'Protocol', 'Total Fwd Packet', 'Total Bwd packets',\n",
        "    'Total Length of Fwd Packet', 'Total Length of Bwd Packet']"
      ]
    },
    {
      "cell_type": "markdown",
      "metadata": {
        "id": "bKJvzoIoExJe"
      },
      "source": [
        "# Read data from attack and normal datasets."
      ]
    },
    {
      "cell_type": "code",
      "execution_count": null,
      "metadata": {
        "id": "45DLuBXMo7I3"
      },
      "outputs": [],
      "source": [
        "dataset_sources = {\n",
        "    'attack': {\n",
        "        'path': '/content/drive/MyDrive/Colab Notebooks/Containerized_Testbed/Attack Traffic/slice 1/Day 1/network_flow'\n",
        "    },\n",
        "     'benign': {\n",
        "        'path': '/content/drive/MyDrive/Colab Notebooks/Containerized_Testbed/Benign Traffic/Slice 1/network_flow'\n",
        "     },\n",
        "    # 'attack': {\n",
        "    #     'path': '/content/drive/MyDrive/Colab Notebooks/Containerized_Testbed/Attack Traffic/slice 2/Day 1/Network Flow'\n",
        "    # },\n",
        "    #  'benign': {\n",
        "    #     'path': '/content/drive/MyDrive/Colab Notebooks/Containerized_Testbed/Benign Traffic/Slice 2/Network Flow'\n",
        "    #  },\n",
        "}"
      ]
    },
    {
      "cell_type": "code",
      "execution_count": null,
      "metadata": {
        "id": "rz452cO5rtAX"
      },
      "outputs": [],
      "source": [
        "import os\n",
        "# Helper function to read CSV files form a given directory\n",
        "# directory_path: Directory where csv files located\n",
        "# limit: limit the sample based on parameter set while calling the function\n",
        "\n",
        "def read_all_csv_files(directory_path, features, limit=1000000):\n",
        "    # Initialize an empty list to store dataframes from CSV files\n",
        "    dataframes = []\n",
        "\n",
        "    # Get a list of all files in the directory\n",
        "    file_list = os.listdir(directory_path)\n",
        "\n",
        "    # Loop through each file and check if it's a CSV file\n",
        "    for file_name in file_list:\n",
        "        if file_name.endswith('.csv'):\n",
        "            # Get the full file path\n",
        "            file_path = os.path.join(directory_path, file_name)\n",
        "            # Read the CSV file into a pandas DataFrame\n",
        "            df = pd.read_csv(file_path)\n",
        "            # Remove leading and trailing spaces from column names\n",
        "            df.columns = df.columns.str.strip()\n",
        "            # Append the DataFrame to the list\n",
        "            dataframes.append(df[features])\n",
        "\n",
        "    # Merge all DataFrames into a single DataFrame\n",
        "    merged_df = pd.concat(dataframes, ignore_index=True)\n",
        "    print(\"Initial Row: {}\".format(merged_df.shape[0]))\n",
        "\n",
        "        #applying limit if row_count > limit\n",
        "    if len(merged_df) > limit:\n",
        "        print(\"As Row Exceeds {0}, we are taking upto {1} rows\".format(limit, limit))\n",
        "        merged_df = merged_df.sample(limit) #set the random_sate so that everytime this will pull the same random numbers\n",
        "\n",
        "    return merged_df"
      ]
    },
    {
      "cell_type": "code",
      "execution_count": null,
      "metadata": {
        "id": "oFozuqo6sla4"
      },
      "outputs": [],
      "source": [
        "# Sanitize the data frame\n",
        "# Remove null values\n",
        "# Remove infinte values\n",
        "\n",
        "def sanitize_data_frames_updated(dataframe, limit=1000000, remove_infinity=True, remove_null=True):\n",
        "    print(\"Before Santization Row Count:\", dataframe.shape[0])\n",
        "\n",
        "    if remove_infinity:\n",
        "        numeric_cols = dataframe.select_dtypes(include=[np.number]).columns\n",
        "        infinite_counts = dataframe[numeric_cols].map(np.isinf).sum()\n",
        "        for col, count in infinite_counts.items():\n",
        "            if count != 0:\n",
        "                print(f\"Column '{col}' contains {count} infinite values.\")\n",
        "                if limit is not None:\n",
        "                    dataframe = dataframe[~np.isinf(dataframe[col])]\n",
        "\n",
        "    if remove_null:\n",
        "        null_counts = dataframe.isnull().sum()\n",
        "        for col, count in null_counts.items():\n",
        "            if count != 0:\n",
        "                print(f\"Column '{col}' contains {count} null values.\")\n",
        "                if limit is not None:\n",
        "                    dataframe = dataframe.dropna(subset=[col])\n",
        "\n",
        "    print(\"Sanitized Row Count:\", dataframe.shape[0])\n",
        "    return dataframe\n"
      ]
    },
    {
      "cell_type": "code",
      "execution_count": null,
      "metadata": {
        "colab": {
          "base_uri": "https://localhost:8080/"
        },
        "id": "B6WqZriprD99",
        "outputId": "8117a44c-add3-4ed7-a48c-518f22cc0098"
      },
      "outputs": [
        {
          "output_type": "stream",
          "name": "stderr",
          "text": [
            "\r  0%|          | 0/2 [00:00<?, ?it/s]"
          ]
        },
        {
          "output_type": "stream",
          "name": "stdout",
          "text": [
            "Loading.....attack.......\n",
            "Directory: /content/drive/MyDrive/Colab Notebooks/Containerized_Testbed/Attack Traffic/slice 1/Day 1/network_flow\n",
            "Initial Row: 2854566\n",
            "As Row Exceeds 1000000, we are taking upto 1000000 rows\n",
            "Before Santization Row Count: 1000000\n",
            "Sanitized Row Count: 1000000\n"
          ]
        },
        {
          "output_type": "stream",
          "name": "stderr",
          "text": [
            "\r 50%|█████     | 1/2 [00:57<00:57, 57.56s/it]"
          ]
        },
        {
          "output_type": "stream",
          "name": "stdout",
          "text": [
            "END.....attack.......\n",
            "\n",
            "\n",
            "\n",
            "Loading.....benign.......\n",
            "Directory: /content/drive/MyDrive/Colab Notebooks/Containerized_Testbed/Benign Traffic/Slice 1/network_flow\n",
            "Initial Row: 357282\n",
            "Before Santization Row Count: 357282\n"
          ]
        },
        {
          "output_type": "stream",
          "name": "stderr",
          "text": [
            "100%|██████████| 2/2 [01:19<00:00, 39.88s/it]"
          ]
        },
        {
          "output_type": "stream",
          "name": "stdout",
          "text": [
            "Sanitized Row Count: 357282\n",
            "END.....benign.......\n",
            "\n",
            "\n",
            "\n"
          ]
        },
        {
          "output_type": "stream",
          "name": "stderr",
          "text": [
            "\n"
          ]
        }
      ],
      "source": [
        "# Read the data\n",
        "from tqdm import tqdm\n",
        "for key, element in tqdm(dataset_sources.items(), total=len(dataset_sources)):\n",
        "    print(\"Loading.....{0}.......\".format(key))\n",
        "    directory_path = element['path']\n",
        "    print(\"Directory: {0}\".format(directory_path))\n",
        "    dataframe = read_all_csv_files(directory_path, features)\n",
        "    dataframe = sanitize_data_frames_updated(dataframe)\n",
        "    #print(dataframe.describe())\n",
        "    locals()[key] = dataframe\n",
        "    dataframe.describe()\n",
        "    print(\"END.....{0}.......\".format(key))\n",
        "    print(\"\\n\\n\")"
      ]
    },
    {
      "cell_type": "code",
      "execution_count": null,
      "metadata": {
        "colab": {
          "base_uri": "https://localhost:8080/"
        },
        "id": "10Yu43Dot1_u",
        "outputId": "22ebae1a-9e55-4837-ccf5-21a83bb14381"
      },
      "outputs": [
        {
          "output_type": "stream",
          "name": "stdout",
          "text": [
            "attack: (1000000, 9)\n",
            "attack\n",
            "1000000\n",
            "benign: (357282, 9)\n",
            "benign\n",
            "357282\n",
            "(1000000, 9)\n",
            "(357282, 9)\n"
          ]
        }
      ],
      "source": [
        "for key, element in dataset_sources.items():\n",
        "    print('{0}: {1}'.format(key, locals()[key].shape))\n",
        "    if \"{0}\".format(key) == \"attack\":\n",
        "      dfAttack = locals()[key]\n",
        "    elif \"{0}\".format(key) == \"benign\":\n",
        "      dfBenign = locals()[key]\n",
        "    print(\"{0}\".format(key))\n",
        "    print(locals()[key].shape[0])\n",
        "\n",
        "\n",
        "print(dfAttack.shape)\n",
        "print(dfBenign.shape)"
      ]
    },
    {
      "cell_type": "code",
      "execution_count": null,
      "metadata": {
        "id": "xuqcRePLnMYn"
      },
      "outputs": [],
      "source": [
        "default_value = 'attack'\n",
        "dfAttack = dfAttack.assign(Label=default_value)\n",
        "\n"
      ]
    },
    {
      "cell_type": "code",
      "execution_count": null,
      "metadata": {
        "id": "wZ-wlBPmnTfg"
      },
      "outputs": [],
      "source": [
        "default_value = 'Benign'\n",
        "dfBenign = dfBenign.assign(Label=default_value)\n"
      ]
    },
    {
      "cell_type": "code",
      "execution_count": null,
      "metadata": {
        "colab": {
          "base_uri": "https://localhost:8080/"
        },
        "id": "_eFcpOMfvs64",
        "outputId": "049d0e59-03df-4c3c-98f5-3ad3d4b799e4"
      },
      "outputs": [
        {
          "output_type": "stream",
          "name": "stdout",
          "text": [
            "(357282, 9)\n",
            "(1000000, 9)\n"
          ]
        }
      ],
      "source": [
        "print(dfBenign.shape)\n",
        "print(dfAttack.shape)"
      ]
    },
    {
      "cell_type": "markdown",
      "metadata": {
        "id": "L0p5MOAvxHwY"
      },
      "source": [
        "**Various shapes are showing from different data frames**"
      ]
    },
    {
      "cell_type": "code",
      "execution_count": null,
      "metadata": {
        "colab": {
          "base_uri": "https://localhost:8080/"
        },
        "id": "7IxNpgX5kAMg",
        "outputId": "a88a225a-5058-45a4-f177-9cadd12f02b3"
      },
      "outputs": [
        {
          "output_type": "stream",
          "name": "stdout",
          "text": [
            "(357282, 9)\n",
            "(357282, 9)\n",
            "(714564, 8)\n",
            "(8,)\n",
            "714564\n",
            "357282\n",
            "357282\n",
            "357282\n",
            "357282\n"
          ]
        }
      ],
      "source": [
        "dfAttack=dfAttack.sample(n=dfBenign.shape[0])\n",
        "print(dfAttack.shape)\n",
        "print(dfBenign.shape)\n",
        "\n",
        "Y_normal = pd.concat([pd.DataFrame(dfBenign['Label'])], axis=0)\n",
        "# Y_normal=Y_normal.sample(n=number_of_samples_attack)\n",
        "\n",
        "Y_attack= pd.concat([pd.DataFrame(dfAttack['Label'])], axis=0)\n",
        "# Y_attack=Y_attack.sample(n=Y_normal.shape[0],replace=True)\n",
        "\n",
        "X_normal = pd.concat([pd.DataFrame(dfBenign[featuresWithoutLabel].values)], axis=0)\n",
        "\n",
        "X_attack = pd.concat([pd.DataFrame(dfAttack[featuresWithoutLabel].values)], axis=0)\n",
        "\n",
        "\n",
        "X=np.concatenate((X_normal,X_attack))\n",
        "\n",
        "\n",
        "print(X.shape)\n",
        "print(X[0].shape)\n",
        "print(len(X))\n",
        "print(len(X_normal))\n",
        "print(len(X_attack))\n",
        "\n",
        "print(len(Y_normal))\n",
        "print(len(Y_attack))\n",
        "\n",
        "Y_attack=Y_attack.values.flatten()\n",
        "Y_normal=Y_normal.values.flatten()\n",
        "\n",
        "\n",
        "Y=np.concatenate((Y_normal,Y_attack))\n",
        "\n"
      ]
    },
    {
      "cell_type": "markdown",
      "metadata": {
        "id": "pL1bwPD1ExJk"
      },
      "source": [
        "# Standardise the data"
      ]
    },
    {
      "cell_type": "code",
      "execution_count": null,
      "metadata": {
        "colab": {
          "base_uri": "https://localhost:8080/"
        },
        "id": "b3xIr2rRkWMX",
        "outputId": "7cd0cb84-7f97-4c1b-a2eb-8f2b4809d8a7"
      },
      "outputs": [
        {
          "output_type": "stream",
          "name": "stdout",
          "text": [
            "[[-0.4949668   0.11648611 -0.00333879 -0.26323153 -0.00394531 -0.00435203\n",
            "  -0.03358444 -0.00509896]\n",
            " [-0.49689756  0.62756273 -0.00383916 -0.26323153 -0.00446052 -0.00484647\n",
            "  -0.03657952 -0.00487313]\n",
            " [-0.49987161 -0.63051222 -0.006341   -0.26323153 -0.00909746 -0.00649463\n",
            "  -0.08864096 -0.00583871]\n",
            " [-0.49687703  0.7553151  -0.00433953 -0.26323153 -0.00549095 -0.00517611\n",
            "  -0.03657952 -0.00512183]\n",
            " [-0.49986937 -0.63051222 -0.006341   -0.26323153 -0.00909746 -0.00649463\n",
            "  -0.08864096 -0.00583871]]\n",
            "(714564, 8)\n"
          ]
        }
      ],
      "source": [
        "scalar = StandardScaler(copy=True, with_mean=True, with_std=True)\n",
        "scalar.fit(X)\n",
        "X = scalar.transform(X)\n",
        "print(X[0:5])\n",
        "print(X.shape)"
      ]
    },
    {
      "cell_type": "markdown",
      "metadata": {
        "id": "nmLOn_vBExJl"
      },
      "source": [
        "# The class field, replace value 'attack' with 0 and 'normal' with 1"
      ]
    },
    {
      "cell_type": "code",
      "execution_count": null,
      "metadata": {
        "id": "0U1VeOtEkYBX"
      },
      "outputs": [],
      "source": [
        "for i in range(0,len(Y)):\n",
        "  # print(Y[i])\n",
        "  if Y[i] ==\"attack\":\n",
        "    Y[i]=0\n",
        "  else:\n",
        "    Y[i]=1\n",
        "\n"
      ]
    },
    {
      "cell_type": "code",
      "execution_count": null,
      "metadata": {
        "id": "XJU1WjE7TocF"
      },
      "outputs": [],
      "source": [
        "# I = np.expand_dims(X, -1)\n",
        "#reshape data to fit model\n",
        "X= X.reshape(X.shape[0], X.shape[1], 1)"
      ]
    },
    {
      "cell_type": "code",
      "execution_count": null,
      "metadata": {
        "colab": {
          "base_uri": "https://localhost:8080/"
        },
        "id": "tWSnDbTIM8uC",
        "outputId": "d2045719-c554-489e-8d5e-de7136b397e4"
      },
      "outputs": [
        {
          "output_type": "stream",
          "name": "stdout",
          "text": [
            "[[[-0.49986863]\n",
            "  [-0.63051222]\n",
            "  [-0.006341  ]\n",
            "  [-0.26323153]\n",
            "  [-0.00909746]\n",
            "  [-0.00649463]\n",
            "  [-0.08864096]\n",
            "  [-0.00583871]]]\n",
            "(714564, 8, 1)\n"
          ]
        }
      ],
      "source": [
        "print(X[198:199])\n",
        "print(X.shape)\n",
        "\n"
      ]
    },
    {
      "cell_type": "code",
      "execution_count": null,
      "metadata": {
        "id": "1l5ft9AblBln"
      },
      "outputs": [],
      "source": [
        "X_train, X_test, Y_train, Y_test = train_test_split(X, Y, test_size = 0.2)"
      ]
    },
    {
      "cell_type": "code",
      "execution_count": null,
      "metadata": {
        "colab": {
          "base_uri": "https://localhost:8080/"
        },
        "id": "tqH1N1zzraKq",
        "outputId": "1778e221-6c2d-4d83-db55-801d5290b90c"
      },
      "outputs": [
        {
          "output_type": "stream",
          "name": "stdout",
          "text": [
            "(714564, 8, 1)\n",
            "(571651, 8, 1)\n",
            "(142913, 8, 1)\n",
            " \n",
            "(571651,)\n",
            "(142913,)\n"
          ]
        }
      ],
      "source": [
        "print(X.shape)\n",
        "# print(I.shape)\n",
        "print(X_train.shape)\n",
        "print(X_test.shape)\n",
        "print(\" \")\n",
        "print(Y_train.shape)\n",
        "print(Y_test.shape)"
      ]
    },
    {
      "cell_type": "markdown",
      "metadata": {
        "id": "eZZP2YnHExJo"
      },
      "source": [
        "The architecture of the model"
      ]
    },
    {
      "cell_type": "code",
      "execution_count": null,
      "metadata": {
        "id": "SzHoR1ewdODm"
      },
      "outputs": [],
      "source": [
        "import itertools\n",
        "from tensorflow.keras.utils import to_categorical # Updated import for TensorFlow 2.x\n",
        "from tensorflow.keras.models import Sequential\n",
        "from tensorflow.keras.layers import Dense, Dropout, Flatten, Conv1D, MaxPool1D\n",
        "from tensorflow.keras.optimizers import RMSprop, Adam\n",
        "from tensorflow.keras.callbacks import ReduceLROnPlateau\n",
        "\n",
        "def create_baseline():\n",
        "    model = Sequential()\n",
        "\n",
        "    # Add model layers\n",
        "    model.add(Conv1D(64, kernel_size=2, activation='relu', input_shape=(len(featuresWithoutLabel), 1)))\n",
        "    model.add(Conv1D(32, kernel_size=2, activation='relu'))\n",
        "    model.add(Flatten())\n",
        "    model.add(Dense(1, activation='sigmoid'))\n",
        "\n",
        "    model.compile(loss='binary_crossentropy', optimizer='adam', metrics=['accuracy'])\n",
        "\n",
        "    return model\n"
      ]
    },
    {
      "cell_type": "code",
      "execution_count": null,
      "metadata": {
        "id": "fW-zMrYFdVP9",
        "colab": {
          "base_uri": "https://localhost:8080/"
        },
        "outputId": "388bcfeb-113a-4daf-927f-ed202e13896e"
      },
      "outputs": [
        {
          "output_type": "stream",
          "name": "stderr",
          "text": [
            "/usr/local/lib/python3.10/dist-packages/keras/src/layers/convolutional/base_conv.py:107: UserWarning: Do not pass an `input_shape`/`input_dim` argument to a layer. When using Sequential models, prefer using an `Input(shape)` object as the first layer in the model instead.\n",
            "  super().__init__(activity_regularizer=activity_regularizer, **kwargs)\n"
          ]
        }
      ],
      "source": [
        "model = create_baseline()\n",
        "# print(Y_train[1000:len(Y_train)])\n"
      ]
    },
    {
      "cell_type": "markdown",
      "metadata": {
        "id": "zN4a76f4lTeC"
      },
      "source": [
        "# Saving and loading model"
      ]
    },
    {
      "cell_type": "code",
      "execution_count": null,
      "metadata": {
        "colab": {
          "base_uri": "https://localhost:8080/",
          "height": 828
        },
        "id": "QUhK3fV0C198",
        "outputId": "6ea2eb50-e701-4f3d-9611-208d09084ccc"
      },
      "outputs": [
        {
          "output_type": "stream",
          "name": "stdout",
          "text": [
            "Epoch 1/60\n",
            "\u001b[1m14292/14292\u001b[0m \u001b[32m━━━━━━━━━━━━━━━━━━━━\u001b[0m\u001b[37m\u001b[0m \u001b[1m44s\u001b[0m 3ms/step - accuracy: 0.9542 - loss: 0.1126 - val_accuracy: 0.9990 - val_loss: 0.0063\n",
            "Epoch 2/60\n",
            "\u001b[1m14292/14292\u001b[0m \u001b[32m━━━━━━━━━━━━━━━━━━━━\u001b[0m\u001b[37m\u001b[0m \u001b[1m31s\u001b[0m 2ms/step - accuracy: 0.9984 - loss: 0.0090 - val_accuracy: 0.9990 - val_loss: 0.0053\n",
            "Epoch 3/60\n",
            "\u001b[1m14292/14292\u001b[0m \u001b[32m━━━━━━━━━━━━━━━━━━━━\u001b[0m\u001b[37m\u001b[0m \u001b[1m42s\u001b[0m 2ms/step - accuracy: 0.9987 - loss: 0.0072 - val_accuracy: 0.9993 - val_loss: 0.0054\n",
            "Epoch 4/60\n",
            "\u001b[1m14292/14292\u001b[0m \u001b[32m━━━━━━━━━━━━━━━━━━━━\u001b[0m\u001b[37m\u001b[0m \u001b[1m35s\u001b[0m 2ms/step - accuracy: 0.9990 - loss: 0.0062 - val_accuracy: 0.9984 - val_loss: 0.0071\n",
            "Epoch 5/60\n",
            "\u001b[1m14292/14292\u001b[0m \u001b[32m━━━━━━━━━━━━━━━━━━━━\u001b[0m\u001b[37m\u001b[0m \u001b[1m30s\u001b[0m 2ms/step - accuracy: 0.9990 - loss: 0.0055 - val_accuracy: 0.9996 - val_loss: 0.0028\n",
            "Epoch 6/60\n",
            "\u001b[1m14292/14292\u001b[0m \u001b[32m━━━━━━━━━━━━━━━━━━━━\u001b[0m\u001b[37m\u001b[0m \u001b[1m41s\u001b[0m 2ms/step - accuracy: 0.9993 - loss: 0.0042 - val_accuracy: 0.9994 - val_loss: 0.0032\n",
            "Epoch 7/60\n",
            "\u001b[1m14292/14292\u001b[0m \u001b[32m━━━━━━━━━━━━━━━━━━━━\u001b[0m\u001b[37m\u001b[0m \u001b[1m31s\u001b[0m 2ms/step - accuracy: 0.9995 - loss: 0.0035 - val_accuracy: 0.9994 - val_loss: 0.0035\n",
            "Epoch 8/60\n",
            "\u001b[1m14292/14292\u001b[0m \u001b[32m━━━━━━━━━━━━━━━━━━━━\u001b[0m\u001b[37m\u001b[0m \u001b[1m29s\u001b[0m 2ms/step - accuracy: 0.9994 - loss: 0.0036 - val_accuracy: 0.9995 - val_loss: 0.0027\n",
            "Epoch 9/60\n",
            "\u001b[1m14292/14292\u001b[0m \u001b[32m━━━━━━━━━━━━━━━━━━━━\u001b[0m\u001b[37m\u001b[0m \u001b[1m42s\u001b[0m 2ms/step - accuracy: 0.9995 - loss: 0.0033 - val_accuracy: 0.9996 - val_loss: 0.0028\n",
            "Epoch 10/60\n",
            "\u001b[1m14292/14292\u001b[0m \u001b[32m━━━━━━━━━━━━━━━━━━━━\u001b[0m\u001b[37m\u001b[0m \u001b[1m32s\u001b[0m 2ms/step - accuracy: 0.9995 - loss: 0.0033 - val_accuracy: 0.9996 - val_loss: 0.0027\n",
            "Epoch 11/60\n",
            "\u001b[1m14292/14292\u001b[0m \u001b[32m━━━━━━━━━━━━━━━━━━━━\u001b[0m\u001b[37m\u001b[0m \u001b[1m30s\u001b[0m 2ms/step - accuracy: 0.9995 - loss: 0.0033 - val_accuracy: 0.9996 - val_loss: 0.0026\n",
            "Epoch 12/60\n",
            "\u001b[1m14292/14292\u001b[0m \u001b[32m━━━━━━━━━━━━━━━━━━━━\u001b[0m\u001b[37m\u001b[0m \u001b[1m30s\u001b[0m 2ms/step - accuracy: 0.9995 - loss: 0.0034 - val_accuracy: 0.9995 - val_loss: 0.0028\n",
            "Epoch 13/60\n",
            "\u001b[1m14292/14292\u001b[0m \u001b[32m━━━━━━━━━━━━━━━━━━━━\u001b[0m\u001b[37m\u001b[0m \u001b[1m40s\u001b[0m 2ms/step - accuracy: 0.9996 - loss: 0.0027 - val_accuracy: 0.9995 - val_loss: 0.0034\n",
            "Epoch 14/60\n",
            "\u001b[1m14292/14292\u001b[0m \u001b[32m━━━━━━━━━━━━━━━━━━━━\u001b[0m\u001b[37m\u001b[0m \u001b[1m44s\u001b[0m 2ms/step - accuracy: 0.9995 - loss: 0.0032 - val_accuracy: 0.9996 - val_loss: 0.0027\n",
            "Epoch 15/60\n",
            "\u001b[1m14292/14292\u001b[0m \u001b[32m━━━━━━━━━━━━━━━━━━━━\u001b[0m\u001b[37m\u001b[0m \u001b[1m39s\u001b[0m 2ms/step - accuracy: 0.9996 - loss: 0.0028 - val_accuracy: 0.9995 - val_loss: 0.0026\n",
            "Model saved to /content/drive/MyDrive/MLModel/cnn_container_model.keras\n"
          ]
        },
        {
          "output_type": "display_data",
          "data": {
            "text/plain": [
              "\u001b[1mModel: \"sequential\"\u001b[0m\n"
            ],
            "text/html": [
              "<pre style=\"white-space:pre;overflow-x:auto;line-height:normal;font-family:Menlo,'DejaVu Sans Mono',consolas,'Courier New',monospace\"><span style=\"font-weight: bold\">Model: \"sequential\"</span>\n",
              "</pre>\n"
            ]
          },
          "metadata": {}
        },
        {
          "output_type": "display_data",
          "data": {
            "text/plain": [
              "┏━━━━━━━━━━━━━━━━━━━━━━━━━━━━━━━━━━━━━━┳━━━━━━━━━━━━━━━━━━━━━━━━━━━━━┳━━━━━━━━━━━━━━━━━┓\n",
              "┃\u001b[1m \u001b[0m\u001b[1mLayer (type)                        \u001b[0m\u001b[1m \u001b[0m┃\u001b[1m \u001b[0m\u001b[1mOutput Shape               \u001b[0m\u001b[1m \u001b[0m┃\u001b[1m \u001b[0m\u001b[1m        Param #\u001b[0m\u001b[1m \u001b[0m┃\n",
              "┡━━━━━━━━━━━━━━━━━━━━━━━━━━━━━━━━━━━━━━╇━━━━━━━━━━━━━━━━━━━━━━━━━━━━━╇━━━━━━━━━━━━━━━━━┩\n",
              "│ conv1d (\u001b[38;5;33mConv1D\u001b[0m)                      │ (\u001b[38;5;45mNone\u001b[0m, \u001b[38;5;34m7\u001b[0m, \u001b[38;5;34m64\u001b[0m)               │             \u001b[38;5;34m192\u001b[0m │\n",
              "├──────────────────────────────────────┼─────────────────────────────┼─────────────────┤\n",
              "│ conv1d_1 (\u001b[38;5;33mConv1D\u001b[0m)                    │ (\u001b[38;5;45mNone\u001b[0m, \u001b[38;5;34m6\u001b[0m, \u001b[38;5;34m32\u001b[0m)               │           \u001b[38;5;34m4,128\u001b[0m │\n",
              "├──────────────────────────────────────┼─────────────────────────────┼─────────────────┤\n",
              "│ flatten (\u001b[38;5;33mFlatten\u001b[0m)                    │ (\u001b[38;5;45mNone\u001b[0m, \u001b[38;5;34m192\u001b[0m)                 │               \u001b[38;5;34m0\u001b[0m │\n",
              "├──────────────────────────────────────┼─────────────────────────────┼─────────────────┤\n",
              "│ dense (\u001b[38;5;33mDense\u001b[0m)                        │ (\u001b[38;5;45mNone\u001b[0m, \u001b[38;5;34m1\u001b[0m)                   │             \u001b[38;5;34m193\u001b[0m │\n",
              "└──────────────────────────────────────┴─────────────────────────────┴─────────────────┘\n"
            ],
            "text/html": [
              "<pre style=\"white-space:pre;overflow-x:auto;line-height:normal;font-family:Menlo,'DejaVu Sans Mono',consolas,'Courier New',monospace\">┏━━━━━━━━━━━━━━━━━━━━━━━━━━━━━━━━━━━━━━┳━━━━━━━━━━━━━━━━━━━━━━━━━━━━━┳━━━━━━━━━━━━━━━━━┓\n",
              "┃<span style=\"font-weight: bold\"> Layer (type)                         </span>┃<span style=\"font-weight: bold\"> Output Shape                </span>┃<span style=\"font-weight: bold\">         Param # </span>┃\n",
              "┡━━━━━━━━━━━━━━━━━━━━━━━━━━━━━━━━━━━━━━╇━━━━━━━━━━━━━━━━━━━━━━━━━━━━━╇━━━━━━━━━━━━━━━━━┩\n",
              "│ conv1d (<span style=\"color: #0087ff; text-decoration-color: #0087ff\">Conv1D</span>)                      │ (<span style=\"color: #00d7ff; text-decoration-color: #00d7ff\">None</span>, <span style=\"color: #00af00; text-decoration-color: #00af00\">7</span>, <span style=\"color: #00af00; text-decoration-color: #00af00\">64</span>)               │             <span style=\"color: #00af00; text-decoration-color: #00af00\">192</span> │\n",
              "├──────────────────────────────────────┼─────────────────────────────┼─────────────────┤\n",
              "│ conv1d_1 (<span style=\"color: #0087ff; text-decoration-color: #0087ff\">Conv1D</span>)                    │ (<span style=\"color: #00d7ff; text-decoration-color: #00d7ff\">None</span>, <span style=\"color: #00af00; text-decoration-color: #00af00\">6</span>, <span style=\"color: #00af00; text-decoration-color: #00af00\">32</span>)               │           <span style=\"color: #00af00; text-decoration-color: #00af00\">4,128</span> │\n",
              "├──────────────────────────────────────┼─────────────────────────────┼─────────────────┤\n",
              "│ flatten (<span style=\"color: #0087ff; text-decoration-color: #0087ff\">Flatten</span>)                    │ (<span style=\"color: #00d7ff; text-decoration-color: #00d7ff\">None</span>, <span style=\"color: #00af00; text-decoration-color: #00af00\">192</span>)                 │               <span style=\"color: #00af00; text-decoration-color: #00af00\">0</span> │\n",
              "├──────────────────────────────────────┼─────────────────────────────┼─────────────────┤\n",
              "│ dense (<span style=\"color: #0087ff; text-decoration-color: #0087ff\">Dense</span>)                        │ (<span style=\"color: #00d7ff; text-decoration-color: #00d7ff\">None</span>, <span style=\"color: #00af00; text-decoration-color: #00af00\">1</span>)                   │             <span style=\"color: #00af00; text-decoration-color: #00af00\">193</span> │\n",
              "└──────────────────────────────────────┴─────────────────────────────┴─────────────────┘\n",
              "</pre>\n"
            ]
          },
          "metadata": {}
        },
        {
          "output_type": "display_data",
          "data": {
            "text/plain": [
              "\u001b[1m Total params: \u001b[0m\u001b[38;5;34m13,541\u001b[0m (52.90 KB)\n"
            ],
            "text/html": [
              "<pre style=\"white-space:pre;overflow-x:auto;line-height:normal;font-family:Menlo,'DejaVu Sans Mono',consolas,'Courier New',monospace\"><span style=\"font-weight: bold\"> Total params: </span><span style=\"color: #00af00; text-decoration-color: #00af00\">13,541</span> (52.90 KB)\n",
              "</pre>\n"
            ]
          },
          "metadata": {}
        },
        {
          "output_type": "display_data",
          "data": {
            "text/plain": [
              "\u001b[1m Trainable params: \u001b[0m\u001b[38;5;34m4,513\u001b[0m (17.63 KB)\n"
            ],
            "text/html": [
              "<pre style=\"white-space:pre;overflow-x:auto;line-height:normal;font-family:Menlo,'DejaVu Sans Mono',consolas,'Courier New',monospace\"><span style=\"font-weight: bold\"> Trainable params: </span><span style=\"color: #00af00; text-decoration-color: #00af00\">4,513</span> (17.63 KB)\n",
              "</pre>\n"
            ]
          },
          "metadata": {}
        },
        {
          "output_type": "display_data",
          "data": {
            "text/plain": [
              "\u001b[1m Non-trainable params: \u001b[0m\u001b[38;5;34m0\u001b[0m (0.00 B)\n"
            ],
            "text/html": [
              "<pre style=\"white-space:pre;overflow-x:auto;line-height:normal;font-family:Menlo,'DejaVu Sans Mono',consolas,'Courier New',monospace\"><span style=\"font-weight: bold\"> Non-trainable params: </span><span style=\"color: #00af00; text-decoration-color: #00af00\">0</span> (0.00 B)\n",
              "</pre>\n"
            ]
          },
          "metadata": {}
        },
        {
          "output_type": "display_data",
          "data": {
            "text/plain": [
              "\u001b[1m Optimizer params: \u001b[0m\u001b[38;5;34m9,028\u001b[0m (35.27 KB)\n"
            ],
            "text/html": [
              "<pre style=\"white-space:pre;overflow-x:auto;line-height:normal;font-family:Menlo,'DejaVu Sans Mono',consolas,'Courier New',monospace\"><span style=\"font-weight: bold\"> Optimizer params: </span><span style=\"color: #00af00; text-decoration-color: #00af00\">9,028</span> (35.27 KB)\n",
              "</pre>\n"
            ]
          },
          "metadata": {}
        },
        {
          "output_type": "stream",
          "name": "stdout",
          "text": [
            "None\n"
          ]
        }
      ],
      "source": [
        "from keras.callbacks import EarlyStopping\n",
        "import time\n",
        "# print(X_train)\n",
        "\n",
        "Y_train=Y_train.astype(float)\n",
        "# print(Y_train)\n",
        "start_time = time.time()\n",
        "\n",
        "model_path = \"/content/drive/MyDrive/MLModel/cnn_container_model.keras\"\n",
        "history=None\n",
        "\n",
        "try:\n",
        "  model = load_model(model_path)\n",
        "  # history = model.history()\n",
        "  print(\"Model loaded successfully from\", model_path)\n",
        "except:\n",
        "  history = model.fit(X_train, Y_train, epochs=60,validation_split=0.2,callbacks=[EarlyStopping(monitor='val_loss',patience=7, min_delta=0.0001)])\n",
        "  model.save(model_path)\n",
        "  print(\"Model saved to\", model_path)\n",
        "\n",
        "print(model.summary())"
      ]
    },
    {
      "cell_type": "markdown",
      "metadata": {
        "id": "V96FClcvlhjK"
      },
      "source": [
        "#Prediction"
      ]
    },
    {
      "cell_type": "code",
      "execution_count": null,
      "metadata": {
        "colab": {
          "base_uri": "https://localhost:8080/"
        },
        "id": "heMaPerEdn3c",
        "outputId": "2066aea9-1854-4cf1-fac3-624d499e54cd"
      },
      "outputs": [
        {
          "output_type": "stream",
          "name": "stdout",
          "text": [
            "\u001b[1m4467/4467\u001b[0m \u001b[32m━━━━━━━━━━━━━━━━━━━━\u001b[0m\u001b[37m\u001b[0m \u001b[1m6s\u001b[0m 1ms/step\n"
          ]
        }
      ],
      "source": [
        "predict = model.predict(X_test, verbose=1)"
      ]
    },
    {
      "cell_type": "markdown",
      "metadata": {
        "id": "UnqrJ985ExJr"
      },
      "source": [
        "#  Calculate True positive,True negetive,False positive and False negetive values. Then, Create Heatmap with all those values."
      ]
    },
    {
      "cell_type": "code",
      "execution_count": null,
      "metadata": {
        "colab": {
          "base_uri": "https://localhost:8080/"
        },
        "id": "rAjFgVm6uGGp",
        "outputId": "489efcaa-a95a-44b6-931a-9917cc59bbb0"
      },
      "outputs": [
        {
          "output_type": "stream",
          "name": "stdout",
          "text": [
            "tp: 71486\n",
            "fn: 0\n",
            "fp: 54\n",
            "tn: 71375\n",
            "Accuracy: 0.9996221530280236\n",
            "Recall: 1.0\n",
            "Precision: 0.999245177523064\n",
            "F1 score: 0.999622\n",
            "FPR: 0.0007559954640272158\n",
            "FNR: 0.0\n",
            "far: 0.0003779977320136079\n",
            "0.0003778522597664313\n",
            "0.9996225834859307\n"
          ]
        }
      ],
      "source": [
        "tp = 1\n",
        "tn = 1\n",
        "fp = 0\n",
        "fn = 0\n",
        "predictn = predict.flatten().round()\n",
        "predictn = predictn.tolist()\n",
        "Y_testn = Y_test.tolist()\n",
        "for i in range(len(Y_testn)):\n",
        "  if predictn[i]==1 and Y_testn[i]==1:\n",
        "    tp+=1\n",
        "  elif predictn[i]==0 and Y_testn[i]==0:\n",
        "    tn+=1\n",
        "  elif predictn[i]==0 and Y_testn[i]==1:\n",
        "    fp+=1\n",
        "  elif predictn[i]==1 and Y_testn[i]==0:\n",
        "    fn+=1\n",
        "\n",
        "#Printing and calculating various values\n",
        "\n",
        "print('tp:',tp)\n",
        "print('fn:',fn)\n",
        "print('fp:',fp)\n",
        "print('tn:',tn)\n",
        "accuracy = (tp+tn)/(tp+tn+fn+fp)\n",
        "print('Accuracy:',accuracy)\n",
        "recall = tp/(tp+fn)\n",
        "print('Recall:',recall)\n",
        "precision = tp/(tp+fp)\n",
        "print('Precision:',precision)\n",
        "f1_score = 2*((precision*recall)/(precision+recall))\n",
        "print('F1 score: %f' % f1_score)\n",
        "FPR = fp/(fp + tn)\n",
        "print('FPR:' ,FPR)\n",
        "FNR = fn / (fn + tp)\n",
        "print('FNR:' ,FNR)\n",
        "far = (FPR+FNR)/2\n",
        "print('far:' ,far)\n",
        "\n",
        "\n",
        "# mean_squared_error(Y_testn,predictn)\n",
        "MSE = np.square(np.subtract(Y_testn,predictn)).mean()\n",
        "print(MSE)\n",
        "auc = metrics.roc_auc_score(Y_testn, predictn)\n",
        "\n",
        "#print AUC score\n",
        "print(auc)\n",
        "# from sklearn.metrics import mean_squared_error\n",
        "# print(Y_testn[0:10])\n",
        "# print(predictn[0:10])\n",
        "# mse = tf.keras.losses.MeanSquaredError()\n",
        "# loss = mse(Y_testn,predictn)\n",
        "# print('Loss: ', loss.numpy())  # Loss: 0.75\n",
        "# mean_squared_error(Y_testn, predictn)\n",
        "# print(mean_squared_error)"
      ]
    },
    {
      "cell_type": "markdown",
      "metadata": {
        "id": "xS47ZHFRnFQU"
      },
      "source": [
        "# Heatmap"
      ]
    },
    {
      "cell_type": "code",
      "execution_count": null,
      "metadata": {
        "colab": {
          "base_uri": "https://localhost:8080/",
          "height": 434
        },
        "id": "0Ad719yjxPL2",
        "outputId": "22a123bb-c96a-4674-b992-c66cf8562b22"
      },
      "outputs": [
        {
          "output_type": "display_data",
          "data": {
            "text/plain": [
              "<Figure size 640x480 with 2 Axes>"
            ],
            "image/png": "[encoded data removed]"
          },
          "metadata": {}
        }
      ],
      "source": [
        "to_heat_map =[[tn,fp],[fn,tp]]\n",
        "to_heat_map = pd.DataFrame(to_heat_map, index = [\"Attack\",\"Normal\"],columns = [\"Attack\",\"Normal\"])\n",
        "ax = sns.heatmap(to_heat_map,annot=True, fmt=\"d\")"
      ]
    },
    {
      "cell_type": "markdown",
      "metadata": {
        "id": "HjVmwhrmExJs"
      },
      "source": [
        "# Save details"
      ]
    },
    {
      "cell_type": "code",
      "execution_count": null,
      "metadata": {
        "colab": {
          "base_uri": "https://localhost:8080/"
        },
        "id": "mv1vi3_KfPHE",
        "outputId": "f5ccab4a-1c1e-4f85-c2b7-19fd5af71876"
      },
      "outputs": [
        {
          "output_type": "stream",
          "name": "stdout",
          "text": [
            "compile_metrics: 99.96%\n"
          ]
        }
      ],
      "source": [
        "Y_test=Y_test.astype(float)\n",
        "scores = model.evaluate(X_test, Y_test, verbose=0)\n",
        "print(\"%s: %.2f%%\" % (model.metrics_names[1], scores[1]*100))"
      ]
    }
  ],
  "metadata": {
    "accelerator": "GPU",
    "colab": {
      "gpuType": "T4",
      "provenance": [],
      "include_colab_link": true
    },
    "kernelspec": {
      "display_name": "Python 3",
      "name": "python3"
    },
    "language_info": {
      "codemirror_mode": {
        "name": "ipython",
        "version": 3
      },
      "file_extension": ".py",
      "mimetype": "text/x-python",
      "name": "python",
      "nbconvert_exporter": "python",
      "pygments_lexer": "ipython3",
      "version": "3.5.2"
    }
  },
  "nbformat": 4,
  "nbformat_minor": 0
}